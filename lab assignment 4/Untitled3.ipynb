{
 "cells": [
  {
   "cell_type": "code",
   "execution_count": 2,
   "id": "184ae85b-7089-48ca-ae59-a289dff09959",
   "metadata": {},
   "outputs": [],
   "source": [
    "import numpy as np\n"
   ]
  },
  {
   "cell_type": "code",
   "execution_count": 4,
   "id": "384b565d-f3d3-4a8f-9107-100b404123d7",
   "metadata": {},
   "outputs": [
    {
     "name": "stdout",
     "output_type": "stream",
     "text": [
      "[ 2  3  5  7 11]\n",
      "[ 3  4  6  8 12]\n",
      "[ 4  6 10 14 22]\n",
      "[0.66666667 1.         1.66666667 2.33333333 3.66666667]\n"
     ]
    }
   ],
   "source": [
    "numpy_arr=np.array([2,3,5,7,11])\n",
    "print(numpy_arr)\n",
    "add=numpy_arr+1\n",
    "print(add)\n",
    "multi=numpy_arr*2\n",
    "print(multi)\n",
    "div=numpy_arr/3\n",
    "print(div)"
   ]
  },
  {
   "cell_type": "code",
   "execution_count": 8,
   "id": "444ada2f-6ecf-45ae-bf02-2fa1b4207f5d",
   "metadata": {},
   "outputs": [
    {
     "name": "stdout",
     "output_type": "stream",
     "text": [
      "[5 4 6 3 2 1]\n"
     ]
    }
   ],
   "source": [
    "arr=np.array([1,2,3,6,4,5])\n",
    "arr_rev=arr[::-1]\n",
    "print(arr_rev)"
   ]
  },
  {
   "cell_type": "code",
   "execution_count": 12,
   "id": "668e9f08-c9d0-4cce-8323-484c44ee7b02",
   "metadata": {},
   "outputs": [
    {
     "name": "stdout",
     "output_type": "stream",
     "text": [
      "frequent value in x:1,Indices:[0 5 7 8 9]\n",
      "frequent value in y:1,Indices:[0 1 2]\n"
     ]
    }
   ],
   "source": [
    "def most_frequent(arr):\n",
    "    values,counts=np.unique(arr,return_counts=True)\n",
    "    max_count=np.max(counts)\n",
    "    most_frequent_value=values[np.argmax(counts)]\n",
    "    indices=np.where(arr==most_frequent_value)[0]\n",
    "    return most_frequent_value,indices\n",
    "x=np.array([1,2,3,4,5,1,2,1,1,1])\n",
    "y=np.array([1,1,1,2,3,4,2,4,3,3])\n",
    "mf_x,indices_x=most_frequent(x)\n",
    "mf_y,indices_y=most_frequent(y)\n",
    "print(f'frequent value in x:{mf_x},Indices:{indices_x}')\n",
    "print(f'frequent value in y:{mf_y},Indices:{indices_y}')"
   ]
  },
  {
   "cell_type": "code",
   "execution_count": 14,
   "id": "d17f23f5-3d08-4003-b780-7ab41d40fcef",
   "metadata": {},
   "outputs": [
    {
     "name": "stdout",
     "output_type": "stream",
     "text": [
      "Q3a: 20\n",
      "Q3b: 70\n"
     ]
    }
   ],
   "source": [
    "arr = np.array([[10,20,30],[40,50,60],[70,80,90]])\n",
    "print('Q3a:',arr[0,1])\n",
    "print('Q3b:',arr[2,0])"
   ]
  },
  {
   "cell_type": "code",
   "execution_count": 18,
   "id": "302d683a-4ae7-42d8-96bb-c7d45e7cb956",
   "metadata": {},
   "outputs": [
    {
     "name": "stdout",
     "output_type": "stream",
     "text": [
      "[ 10.    13.75  17.5   21.25  25.    28.75  32.5   36.25  40.    43.75\n",
      "  47.5   51.25  55.    58.75  62.5   66.25  70.    73.75  77.5   81.25\n",
      "  85.    88.75  92.5   96.25 100.  ]\n",
      "Array: [ 10.    13.75  17.5   21.25  25.    28.75  32.5   36.25  40.    43.75\n",
      "  47.5   51.25  55.    58.75  62.5   66.25  70.    73.75  77.5   81.25\n",
      "  85.    88.75  92.5   96.25 100.  ]\n",
      "Dimensions: 1\n",
      "Shape: (25,)\n",
      "Total elements: 25\n",
      "Data type: float64\n",
      "Total bytes: 200\n",
      "Transpose of the array : [[ 10.  ]\n",
      " [ 13.75]\n",
      " [ 17.5 ]\n",
      " [ 21.25]\n",
      " [ 25.  ]\n",
      " [ 28.75]\n",
      " [ 32.5 ]\n",
      " [ 36.25]\n",
      " [ 40.  ]\n",
      " [ 43.75]\n",
      " [ 47.5 ]\n",
      " [ 51.25]\n",
      " [ 55.  ]\n",
      " [ 58.75]\n",
      " [ 62.5 ]\n",
      " [ 66.25]\n",
      " [ 70.  ]\n",
      " [ 73.75]\n",
      " [ 77.5 ]\n",
      " [ 81.25]\n",
      " [ 85.  ]\n",
      " [ 88.75]\n",
      " [ 92.5 ]\n",
      " [ 96.25]\n",
      " [100.  ]]\n",
      "Transpose of the array : [ 10.    13.75  17.5   21.25  25.    28.75  32.5   36.25  40.    43.75\n",
      "  47.5   51.25  55.    58.75  62.5   66.25  70.    73.75  77.5   81.25\n",
      "  85.    88.75  92.5   96.25 100.  ]\n"
     ]
    }
   ],
   "source": [
    "Yash=np.linspace(10, 100, 25)\n",
    "print(Yash)\n",
    "print(f'Array: {Yash}')\n",
    "print(f'Dimensions: {Yash.ndim}')\n",
    "print(f'Shape: {Yash.shape}')\n",
    "print(f'Total elements: {Yash.size}')\n",
    "print(f'Data type: {Yash.dtype}')\n",
    "print(f'Total bytes: {Yash.nbytes}')\n",
    "print('Transpose of the array :',Yash.reshape(len(Yash),1))\n",
    "print('Transpose of the array :',Yash.T)"
   ]
  },
  {
   "cell_type": "code",
   "execution_count": 20,
   "id": "b7bd572e-f605-4f41-a314-2664266cec63",
   "metadata": {},
   "outputs": [
    {
     "name": "stdout",
     "output_type": "stream",
     "text": [
      "Mean: 43.333333333333336\n",
      "Median: 37.5\n",
      "Max: 90\n",
      "Min: 10\n",
      "Unique Elements: [10 15 20 30 35 40 50 60 70 80 90]\n",
      "Reshaped:\n",
      " [[10 20 30]\n",
      " [40 50 60]\n",
      " [70 80 90]\n",
      " [15 20 35]]\n",
      "Resized:\n",
      " [[10 20 30]\n",
      " [40 50 60]]\n"
     ]
    }
   ],
   "source": [
    "ucs420_Yash=np.array([[10, 20, 30, 40], [50, 60, 70, 80], [90, 15, 20, 35]])\n",
    "print(\"Mean:\",np.mean(ucs420_Yash))\n",
    "print(\"Median:\",np.median(ucs420_Yash))\n",
    "print(\"Max:\",np.max(ucs420_Yash))\n",
    "print(\"Min:\",np.min(ucs420_Yash))\n",
    "print(\"Unique Elements:\",np.unique(ucs420_Yash))\n",
    "reshaped_ucs420_Yash=ucs420_Yash.reshape(4,3)\n",
    "print(\"Reshaped:\\n\",reshaped_ucs420_Yash)\n",
    "resized_ucs420_Yash=np.resize(ucs420_Yash,(2,3))\n",
    "print(\"Resized:\\n\",resized_ucs420_Yash)"
   ]
  },
  {
   "cell_type": "code",
   "execution_count": null,
   "id": "ccf971ee-279d-4445-bf10-44e2c03cf878",
   "metadata": {},
   "outputs": [],
   "source": []
  }
 ],
 "metadata": {
  "kernelspec": {
   "display_name": "Python [conda env:base] *",
   "language": "python",
   "name": "conda-base-py"
  },
  "language_info": {
   "codemirror_mode": {
    "name": "ipython",
    "version": 3
   },
   "file_extension": ".py",
   "mimetype": "text/x-python",
   "name": "python",
   "nbconvert_exporter": "python",
   "pygments_lexer": "ipython3",
   "version": "3.12.7"
  }
 },
 "nbformat": 4,
 "nbformat_minor": 5
}
