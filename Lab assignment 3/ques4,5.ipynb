{
 "cells": [
  {
   "cell_type": "code",
   "execution_count": 1,
   "id": "5f3cf85e-ad52-4db9-9aee-24ea2c48efdc",
   "metadata": {},
   "outputs": [],
   "source": [
    "import pandas as pd"
   ]
  },
  {
   "cell_type": "code",
   "execution_count": 23,
   "id": "44e2ba2a-78a2-4e15-a930-66736ef83d14",
   "metadata": {},
   "outputs": [
    {
     "name": "stdout",
     "output_type": "stream",
     "text": [
      "[[1 5.1 3.5 1.4 0.2 'Iris-setosa']\n",
      " [2 4.9 3.0 1.4 0.2 'Iris-setosa']\n",
      " [3 4.7 3.2 1.3 0.2 'Iris-setosa']\n",
      " [4 4.6 3.1 1.5 0.2 'Iris-setosa']\n",
      " [5 5.0 3.6 1.4 0.2 'Iris-setosa']]\n"
     ]
    }
   ],
   "source": [
    "dataset1=pd.read_csv('iris.csv')\n",
    "first_five=dataset1.iloc[:5,:].values\n",
    "print(first_five)"
   ]
  },
  {
   "cell_type": "code",
   "execution_count": 25,
   "id": "b3deaf6c-e4ea-4545-83e0-458358817827",
   "metadata": {},
   "outputs": [
    {
     "data": {
      "text/html": [
       "<div>\n",
       "<style scoped>\n",
       "    .dataframe tbody tr th:only-of-type {\n",
       "        vertical-align: middle;\n",
       "    }\n",
       "\n",
       "    .dataframe tbody tr th {\n",
       "        vertical-align: top;\n",
       "    }\n",
       "\n",
       "    .dataframe thead th {\n",
       "        text-align: right;\n",
       "    }\n",
       "</style>\n",
       "<table border=\"1\" class=\"dataframe\">\n",
       "  <thead>\n",
       "    <tr style=\"text-align: right;\">\n",
       "      <th></th>\n",
       "      <th>Id</th>\n",
       "      <th>SepalLengthCm</th>\n",
       "      <th>PetalLengthCm</th>\n",
       "      <th>PetalWidthCm</th>\n",
       "      <th>Species</th>\n",
       "    </tr>\n",
       "  </thead>\n",
       "  <tbody>\n",
       "    <tr>\n",
       "      <th>0</th>\n",
       "      <td>1</td>\n",
       "      <td>5.1</td>\n",
       "      <td>1.4</td>\n",
       "      <td>0.2</td>\n",
       "      <td>Iris-setosa</td>\n",
       "    </tr>\n",
       "    <tr>\n",
       "      <th>1</th>\n",
       "      <td>2</td>\n",
       "      <td>4.9</td>\n",
       "      <td>1.4</td>\n",
       "      <td>0.2</td>\n",
       "      <td>Iris-setosa</td>\n",
       "    </tr>\n",
       "    <tr>\n",
       "      <th>2</th>\n",
       "      <td>3</td>\n",
       "      <td>4.7</td>\n",
       "      <td>1.3</td>\n",
       "      <td>0.2</td>\n",
       "      <td>Iris-setosa</td>\n",
       "    </tr>\n",
       "    <tr>\n",
       "      <th>3</th>\n",
       "      <td>4</td>\n",
       "      <td>4.6</td>\n",
       "      <td>1.5</td>\n",
       "      <td>0.2</td>\n",
       "      <td>Iris-setosa</td>\n",
       "    </tr>\n",
       "    <tr>\n",
       "      <th>5</th>\n",
       "      <td>6</td>\n",
       "      <td>5.4</td>\n",
       "      <td>1.7</td>\n",
       "      <td>0.4</td>\n",
       "      <td>Iris-setosa</td>\n",
       "    </tr>\n",
       "  </tbody>\n",
       "</table>\n",
       "</div>"
      ],
      "text/plain": [
       "   Id  SepalLengthCm  PetalLengthCm  PetalWidthCm      Species\n",
       "0   1            5.1            1.4           0.2  Iris-setosa\n",
       "1   2            4.9            1.4           0.2  Iris-setosa\n",
       "2   3            4.7            1.3           0.2  Iris-setosa\n",
       "3   4            4.6            1.5           0.2  Iris-setosa\n",
       "5   6            5.4            1.7           0.4  Iris-setosa"
      ]
     },
     "execution_count": 25,
     "metadata": {},
     "output_type": "execute_result"
    }
   ],
   "source": [
    "dataset1_del_row = dataset1.drop(index = 4)\n",
    "dataset1_del_col = dataset1_del_row.drop(dataset1_del_row.columns[2],axis = 1)\n",
    "dataset1_del_col.head()"
   ]
  },
  {
   "cell_type": "code",
   "execution_count": null,
   "id": "01ebc7f1-24cf-4650-9ecf-6bd53ac1eb54",
   "metadata": {},
   "outputs": [],
   "source": []
  }
 ],
 "metadata": {
  "kernelspec": {
   "display_name": "Python [conda env:base] *",
   "language": "python",
   "name": "conda-base-py"
  },
  "language_info": {
   "codemirror_mode": {
    "name": "ipython",
    "version": 3
   },
   "file_extension": ".py",
   "mimetype": "text/x-python",
   "name": "python",
   "nbconvert_exporter": "python",
   "pygments_lexer": "ipython3",
   "version": "3.12.7"
  }
 },
 "nbformat": 4,
 "nbformat_minor": 5
}
