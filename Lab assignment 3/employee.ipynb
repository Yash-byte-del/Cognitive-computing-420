{
 "cells": [
  {
   "cell_type": "code",
   "execution_count": 1,
   "id": "14c23c75-6a7c-419c-bca7-4856fd4af56b",
   "metadata": {},
   "outputs": [],
   "source": [
    "import pandas as pd\n"
   ]
  },
  {
   "cell_type": "code",
   "execution_count": 5,
   "id": "6cd3d987-d3e1-4414-84e9-8ba7bf809dcd",
   "metadata": {},
   "outputs": [
    {
     "name": "stdout",
     "output_type": "stream",
     "text": [
      "[[0 101 'Alice' 'HR' 29 50000 4 '2020-03-15' 'Female' 5000 4.5]\n",
      " [1 102 'Bob' 'IT' 34 70000 8 '2017-07-19' 'Male' 7000 4.0]\n",
      " [2 103 'Charlie' 'IT' 41 65000 10 '2013-06-01' 'Male' 6000 3.8]\n",
      " [3 104 'Diana' 'Marketing' 28 55000 3 '2021-02-10' 'Female' 4500 4.7]\n",
      " [4 105 'Edward' 'Sales' 38 60000 12 '2010-11-25' 'Male' 5000 3.5]]\n"
     ]
    }
   ],
   "source": [
    "dataset1=pd.read_csv('employees.csv')\n",
    "first_five=dataset1.iloc[:5,:].values\n",
    "print(first_five)"
   ]
  },
  {
   "cell_type": "code",
   "execution_count": 7,
   "id": "181a5f0a-bfc8-4c8e-8d4e-d95629019116",
   "metadata": {},
   "outputs": [
    {
     "data": {
      "text/html": [
       "<div>\n",
       "<style scoped>\n",
       "    .dataframe tbody tr th:only-of-type {\n",
       "        vertical-align: middle;\n",
       "    }\n",
       "\n",
       "    .dataframe tbody tr th {\n",
       "        vertical-align: top;\n",
       "    }\n",
       "\n",
       "    .dataframe thead th {\n",
       "        text-align: right;\n",
       "    }\n",
       "</style>\n",
       "<table border=\"1\" class=\"dataframe\">\n",
       "  <thead>\n",
       "    <tr style=\"text-align: right;\">\n",
       "      <th></th>\n",
       "      <th>Unnamed: 0</th>\n",
       "      <th>Employee_ID</th>\n",
       "      <th>Department</th>\n",
       "      <th>Age</th>\n",
       "      <th>Salary</th>\n",
       "      <th>Years_of_Experience</th>\n",
       "      <th>Joining_Date</th>\n",
       "      <th>Gender</th>\n",
       "      <th>Bonus</th>\n",
       "      <th>Rating</th>\n",
       "    </tr>\n",
       "  </thead>\n",
       "  <tbody>\n",
       "    <tr>\n",
       "      <th>0</th>\n",
       "      <td>0</td>\n",
       "      <td>101</td>\n",
       "      <td>HR</td>\n",
       "      <td>29</td>\n",
       "      <td>50000</td>\n",
       "      <td>4</td>\n",
       "      <td>2020-03-15</td>\n",
       "      <td>Female</td>\n",
       "      <td>5000</td>\n",
       "      <td>4.5</td>\n",
       "    </tr>\n",
       "    <tr>\n",
       "      <th>1</th>\n",
       "      <td>1</td>\n",
       "      <td>102</td>\n",
       "      <td>IT</td>\n",
       "      <td>34</td>\n",
       "      <td>70000</td>\n",
       "      <td>8</td>\n",
       "      <td>2017-07-19</td>\n",
       "      <td>Male</td>\n",
       "      <td>7000</td>\n",
       "      <td>4.0</td>\n",
       "    </tr>\n",
       "    <tr>\n",
       "      <th>2</th>\n",
       "      <td>2</td>\n",
       "      <td>103</td>\n",
       "      <td>IT</td>\n",
       "      <td>41</td>\n",
       "      <td>65000</td>\n",
       "      <td>10</td>\n",
       "      <td>2013-06-01</td>\n",
       "      <td>Male</td>\n",
       "      <td>6000</td>\n",
       "      <td>3.8</td>\n",
       "    </tr>\n",
       "    <tr>\n",
       "      <th>3</th>\n",
       "      <td>3</td>\n",
       "      <td>104</td>\n",
       "      <td>Marketing</td>\n",
       "      <td>28</td>\n",
       "      <td>55000</td>\n",
       "      <td>3</td>\n",
       "      <td>2021-02-10</td>\n",
       "      <td>Female</td>\n",
       "      <td>4500</td>\n",
       "      <td>4.7</td>\n",
       "    </tr>\n",
       "  </tbody>\n",
       "</table>\n",
       "</div>"
      ],
      "text/plain": [
       "   Unnamed: 0  Employee_ID Department  Age  Salary  Years_of_Experience  \\\n",
       "0           0          101         HR   29   50000                    4   \n",
       "1           1          102         IT   34   70000                    8   \n",
       "2           2          103         IT   41   65000                   10   \n",
       "3           3          104  Marketing   28   55000                    3   \n",
       "\n",
       "  Joining_Date  Gender  Bonus  Rating  \n",
       "0   2020-03-15  Female   5000     4.5  \n",
       "1   2017-07-19    Male   7000     4.0  \n",
       "2   2013-06-01    Male   6000     3.8  \n",
       "3   2021-02-10  Female   4500     4.7  "
      ]
     },
     "execution_count": 7,
     "metadata": {},
     "output_type": "execute_result"
    }
   ],
   "source": [
    "dataset1_del_row = dataset1.drop(index = 4)\n",
    "dataset1_del_col = dataset1_del_row.drop(dataset1_del_row.columns[2],axis = 1)\n",
    "dataset1_del_col.head()"
   ]
  },
  {
   "cell_type": "code",
   "execution_count": null,
   "id": "cbf2c546-2d58-45b2-b2a6-e028eb37209a",
   "metadata": {},
   "outputs": [],
   "source": []
  }
 ],
 "metadata": {
  "kernelspec": {
   "display_name": "Python [conda env:base] *",
   "language": "python",
   "name": "conda-base-py"
  },
  "language_info": {
   "codemirror_mode": {
    "name": "ipython",
    "version": 3
   },
   "file_extension": ".py",
   "mimetype": "text/x-python",
   "name": "python",
   "nbconvert_exporter": "python",
   "pygments_lexer": "ipython3",
   "version": "3.12.7"
  }
 },
 "nbformat": 4,
 "nbformat_minor": 5
}
